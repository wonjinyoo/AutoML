{
  "nbformat": 4,
  "nbformat_minor": 0,
  "metadata": {
    "colab": {
      "provenance": [],
      "authorship_tag": "ABX9TyM8Kv9YzMfuD4BYq64CHPLz",
      "include_colab_link": true
    },
    "kernelspec": {
      "name": "python3",
      "display_name": "Python 3"
    },
    "language_info": {
      "name": "python"
    }
  },
  "cells": [
    {
      "cell_type": "markdown",
      "metadata": {
        "id": "view-in-github",
        "colab_type": "text"
      },
      "source": [
        "<a href=\"https://colab.research.google.com/github/wonjinyoo/AutoML/blob/main/CreateML_modelconversion.ipynb\" target=\"_parent\"><img src=\"https://colab.research.google.com/assets/colab-badge.svg\" alt=\"Open In Colab\"/></a>"
      ]
    },
    {
      "cell_type": "markdown",
      "source": [
        "## Apple CoreML, CreateML"
      ],
      "metadata": {
        "id": "hblQdg51bsvO"
      }
    },
    {
      "cell_type": "code",
      "execution_count": null,
      "metadata": {
        "colab": {
          "base_uri": "https://localhost:8080/"
        },
        "id": "L8yJnBDtbnnb",
        "outputId": "f78e9f29-132b-493d-f246-94838819cec1"
      },
      "outputs": [
        {
          "output_type": "stream",
          "name": "stdout",
          "text": [
            "Collecting coremltools\n",
            "  Downloading coremltools-7.2-cp310-none-manylinux1_x86_64.whl (1.9 MB)\n",
            "\u001b[2K     \u001b[90m━━━━━━━━━━━━━━━━━━━━━━━━━━━━━━━━━━━━━━━━\u001b[0m \u001b[32m1.9/1.9 MB\u001b[0m \u001b[31m8.6 MB/s\u001b[0m eta \u001b[36m0:00:00\u001b[0m\n",
            "\u001b[?25hRequirement already satisfied: numpy>=1.14.5 in /usr/local/lib/python3.10/dist-packages (from coremltools) (1.25.2)\n",
            "Requirement already satisfied: protobuf<=4.0.0,>=3.1.0 in /usr/local/lib/python3.10/dist-packages (from coremltools) (3.20.3)\n",
            "Requirement already satisfied: sympy in /usr/local/lib/python3.10/dist-packages (from coremltools) (1.12.1)\n",
            "Requirement already satisfied: tqdm in /usr/local/lib/python3.10/dist-packages (from coremltools) (4.66.4)\n",
            "Requirement already satisfied: packaging in /usr/local/lib/python3.10/dist-packages (from coremltools) (24.1)\n",
            "Requirement already satisfied: attrs>=21.3.0 in /usr/local/lib/python3.10/dist-packages (from coremltools) (23.2.0)\n",
            "Collecting cattrs (from coremltools)\n",
            "  Downloading cattrs-23.2.3-py3-none-any.whl (57 kB)\n",
            "\u001b[2K     \u001b[90m━━━━━━━━━━━━━━━━━━━━━━━━━━━━━━━━━━━━━━━━\u001b[0m \u001b[32m57.5/57.5 kB\u001b[0m \u001b[31m4.6 MB/s\u001b[0m eta \u001b[36m0:00:00\u001b[0m\n",
            "\u001b[?25hCollecting pyaml (from coremltools)\n",
            "  Downloading pyaml-24.4.0-py3-none-any.whl (24 kB)\n",
            "Requirement already satisfied: exceptiongroup>=1.1.1 in /usr/local/lib/python3.10/dist-packages (from cattrs->coremltools) (1.2.1)\n",
            "Requirement already satisfied: typing-extensions!=4.6.3,>=4.1.0 in /usr/local/lib/python3.10/dist-packages (from cattrs->coremltools) (4.12.2)\n",
            "Requirement already satisfied: PyYAML in /usr/local/lib/python3.10/dist-packages (from pyaml->coremltools) (6.0.1)\n",
            "Requirement already satisfied: mpmath<1.4.0,>=1.1.0 in /usr/local/lib/python3.10/dist-packages (from sympy->coremltools) (1.3.0)\n",
            "Installing collected packages: pyaml, cattrs, coremltools\n",
            "Successfully installed cattrs-23.2.3 coremltools-7.2 pyaml-24.4.0\n"
          ]
        }
      ],
      "source": [
        "!pip install coremltools"
      ]
    },
    {
      "cell_type": "code",
      "source": [
        "import tensorflow as tf\n",
        "\n",
        "# tf.keras 이용하여 MobileNet v2 다운로드\n",
        "keras_model = tf.keras.applications.MobileNetV2(\n",
        "    input_shape=(224, 224, 3),\n",
        "    classes=1000,\n",
        "    weights=\"imagenet\",\n",
        ")\n",
        "\n",
        "# 클래스 레이블 다운로드\n",
        "import urllib\n",
        "label_url = \"https://storage.googleapis.com/download.tensorflow.org/data/ImageNetLabels.txt\"\n",
        "class_labels = urllib.request.urlopen(label_url).read().splitlines()\n",
        "class_labels = class_labels[1:]\n",
        "assert len(class_labels) == 1000\n",
        "\n",
        "# 클래스 레이블이 모두 문자열이 되도록 한번 더 확인\n",
        "for i, label in enumerate(class_labels):\n",
        "  if isinstance(label, bytes):\n",
        "    class_labels[i] = label.decode(\"utf-8\")"
      ],
      "metadata": {
        "id": "CKjs7AjPcESp"
      },
      "execution_count": null,
      "outputs": []
    },
    {
      "cell_type": "code",
      "source": [
        "# 불러온 모델을 CoreML 형식으로 변환\n",
        "import coremltools as ct\n",
        "\n",
        "# 입력 데이터 타입을 이미지로 정의\n",
        "image_input = ct.ImageType(\n",
        "    shape=(1, 224, 224, 3),\n",
        "    scale=1/127,\n",
        "    bias=[-1, -1, -1],\n",
        ")\n",
        "\n",
        "# 클래스 레이블 설정\n",
        "classifier_config = ct.ClassifierConfig(class_labels)\n",
        "\n",
        "# CoreML 도구가 제공하는 변환 API를 이용해 모델 변환\n",
        "model = ct.convert(\n",
        "    keras_model,\n",
        "    inputs=[image_input],\n",
        "    classifier_config=classifier_config,\n",
        ")"
      ],
      "metadata": {
        "colab": {
          "base_uri": "https://localhost:8080/"
        },
        "id": "jDXz0EUcdRPY",
        "outputId": "c90083ab-bf4a-4472-8bc5-726cd4291c02"
      },
      "execution_count": null,
      "outputs": [
        {
          "output_type": "stream",
          "name": "stderr",
          "text": [
            "WARNING:coremltools:scikit-learn version 1.2.2 is not supported. Minimum required version: 0.17. Maximum required version: 1.1.2. Disabling scikit-learn conversion API.\n",
            "WARNING:coremltools:XGBoost version 2.0.3 has not been tested with coremltools. You may run into unexpected errors. XGBoost 1.4.2 is the most recent version that has been tested.\n",
            "WARNING:coremltools:TensorFlow version 2.15.0 has not been tested with coremltools. You may run into unexpected errors. TensorFlow 2.12.0 is the most recent version that has been tested.\n",
            "WARNING:coremltools:Torch version 2.3.0+cu121 has not been tested with coremltools. You may run into unexpected errors. Torch 2.2.0 is the most recent version that has been tested.\n",
            "WARNING:coremltools:Failed to load _MLModelProxy: No module named 'coremltools.libcoremlpython'\n",
            "WARNING:coremltools:When both 'convert_to' and 'minimum_deployment_target' not specified, 'convert_to' is set to \"mlprogram\" and 'minimum_deployment_target' is set to ct.target.iOS15 (which is same as ct.target.macOS12). Note: the model will not run on systems older than iOS15/macOS12/watchOS8/tvOS15. In order to make your model run on older system, please set the 'minimum_deployment_target' to iOS14/iOS13. Details please see the link: https://apple.github.io/coremltools/docs-guides/source/target-conversion-formats.html\n",
            "Running TensorFlow Graph Passes: 100%|██████████| 6/6 [00:00<00:00, 13.37 passes/s]\n",
            "Converting TF Frontend ==> MIL Ops: 100%|██████████| 426/426 [00:00<00:00, 904.84 ops/s] \n",
            "Running MIL frontend_tensorflow2 pipeline: 100%|██████████| 7/7 [00:00<00:00, 20.32 passes/s]\n",
            "Running MIL default pipeline: 100%|██████████| 78/78 [00:04<00:00, 18.72 passes/s]\n",
            "Running MIL backend_mlprogram pipeline: 100%|██████████| 12/12 [00:00<00:00, 89.85 passes/s]\n"
          ]
        }
      ]
    },
    {
      "cell_type": "code",
      "source": [
        "# CoreML 형식으로 변환된 모델 상세 정보 확인\n",
        "print(model.get_spec().description)"
      ],
      "metadata": {
        "colab": {
          "base_uri": "https://localhost:8080/"
        },
        "id": "xv0KGKoEeHB4",
        "outputId": "694fbddd-3388-49f8-ea8e-fd2aa48a04b2"
      },
      "execution_count": null,
      "outputs": [
        {
          "output_type": "stream",
          "name": "stdout",
          "text": [
            "input {\n",
            "  name: \"input_3\"\n",
            "  type {\n",
            "    imageType {\n",
            "      width: 224\n",
            "      height: 224\n",
            "      colorSpace: RGB\n",
            "    }\n",
            "  }\n",
            "}\n",
            "output {\n",
            "  name: \"classLabel\"\n",
            "  type {\n",
            "    stringType {\n",
            "    }\n",
            "  }\n",
            "}\n",
            "output {\n",
            "  name: \"classLabel_probs\"\n",
            "  type {\n",
            "    dictionaryType {\n",
            "      stringKeyType {\n",
            "      }\n",
            "    }\n",
            "  }\n",
            "}\n",
            "predictedFeatureName: \"classLabel\"\n",
            "predictedProbabilitiesName: \"classLabel_probs\"\n",
            "metadata {\n",
            "  userDefined {\n",
            "    key: \"com.github.apple.coremltools.source\"\n",
            "    value: \"tensorflow==2.15.0\"\n",
            "  }\n",
            "  userDefined {\n",
            "    key: \"com.github.apple.coremltools.version\"\n",
            "    value: \"7.2\"\n",
            "  }\n",
            "}\n",
            "\n"
          ]
        }
      ]
    }
  ]
}